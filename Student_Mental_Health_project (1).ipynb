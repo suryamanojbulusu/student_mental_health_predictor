{
 "cells": [
  {
   "cell_type": "code",
   "execution_count": null,
   "id": "4888a106-8daf-4076-b8f0-b140620c54aa",
   "metadata": {
    "scrolled": true
   },
   "outputs": [],
   "source": [
    "import pandas as pd\n",
    "data = pd.read_csv(r\"C:\\Users\\SURYA MANOJ\\OneDrive\\Desktop\\dataset\\Student Depression Dataset.csv\")\n",
    "data"
   ]
  },
  {
   "cell_type": "markdown",
   "id": "ea9085da-effb-47b9-9c8b-0d8797e53b96",
   "metadata": {},
   "source": [
    "## DATA PREPROCESSING"
   ]
  },
  {
   "cell_type": "code",
   "execution_count": null,
   "id": "9c8e8e92-f7a4-40e2-9e24-c3239b8bbead",
   "metadata": {},
   "outputs": [],
   "source": [
    "data.isnull()\n",
    "data['Financial Stress'] = data['Financial Stress'].fillna(data['Financial Stress'].mean())"
   ]
  },
  {
   "cell_type": "code",
   "execution_count": null,
   "id": "f237bdd4-c317-42f9-8f06-0b8aeb29cfad",
   "metadata": {},
   "outputs": [],
   "source": [
    "data.info()"
   ]
  },
  {
   "cell_type": "code",
   "execution_count": null,
   "id": "74035e4d-8051-424b-824c-d9723636e1ef",
   "metadata": {},
   "outputs": [],
   "source": [
    "data = data.drop(['id','Profession','Work Pressure','Job Satisfaction','City'],axis =1)\n",
    "data"
   ]
  },
  {
   "cell_type": "code",
   "execution_count": null,
   "id": "198bf2ef-f8cb-4044-ad8a-10ced12b3144",
   "metadata": {},
   "outputs": [],
   "source": [
    "from sklearn.preprocessing import LabelEncoder\n",
    "le = LabelEncoder()\n",
    "data['Gender'] = le.fit_transform(data['Gender'])\n",
    "data['Sleep Duration'] = le.fit_transform(data['Sleep Duration'])\n",
    "data['Dietary Habits'] = le.fit_transform(data['Dietary Habits'])\n",
    "data['Degree']= le.fit_transform(data['Degree'])\n",
    "data['Have you ever had suicidal thoughts ?'] = le.fit_transform(data['Have you ever had suicidal thoughts ?'])\n",
    "data['Family History of Mental Illness'] = le.fit_transform(data['Family History of Mental Illness'])\n",
    "data"
   ]
  },
  {
   "cell_type": "code",
   "execution_count": null,
   "id": "1fd9daeb-9b23-4f5b-aa9b-ef6fa4ef9b8e",
   "metadata": {},
   "outputs": [],
   "source": [
    "x = data.drop(['Depression'],axis = 1)\n",
    "x"
   ]
  },
  {
   "cell_type": "code",
   "execution_count": null,
   "id": "a5edaebc-3dff-4364-9052-bdf08c2b9427",
   "metadata": {},
   "outputs": [],
   "source": [
    "y = data['Depression']\n",
    "y"
   ]
  },
  {
   "cell_type": "code",
   "execution_count": null,
   "id": "cc207f47-d222-43f3-9516-252403bf6b36",
   "metadata": {},
   "outputs": [],
   "source": [
    "from sklearn.model_selection import train_test_split\n",
    "x_train,x_test,y_train,y_test = train_test_split(x,y,test_size = 0.2)\n"
   ]
  },
  {
   "cell_type": "code",
   "execution_count": null,
   "id": "611fd347-398f-4506-850e-00a9ecbfdb2b",
   "metadata": {},
   "outputs": [],
   "source": [
    "print(x_train)"
   ]
  },
  {
   "cell_type": "code",
   "execution_count": null,
   "id": "be2992b7-ebed-486d-a2c5-3561872d395d",
   "metadata": {},
   "outputs": [],
   "source": [
    "print(x_test)"
   ]
  },
  {
   "cell_type": "code",
   "execution_count": null,
   "id": "795dfaed-5429-48c3-a77f-6c8fe11da39b",
   "metadata": {},
   "outputs": [],
   "source": [
    "print(y_train)"
   ]
  },
  {
   "cell_type": "code",
   "execution_count": null,
   "id": "48300e30-667d-49de-a2bc-6f603c2a0ed4",
   "metadata": {},
   "outputs": [],
   "source": [
    "print(y_test)\n"
   ]
  },
  {
   "cell_type": "code",
   "execution_count": null,
   "id": "139b461c-278d-428a-9b80-b23925068e4a",
   "metadata": {},
   "outputs": [],
   "source": []
  },
  {
   "cell_type": "code",
   "execution_count": null,
   "id": "98c43cc1-b322-439b-92c6-1f9435bd4c71",
   "metadata": {},
   "outputs": [],
   "source": [
    "from sklearn.neural_network import MLPClassifier\n",
    "clf = MLPClassifier()\n",
    "clf_model = clf.fit(x_train,y_train)\n",
    "clf_model"
   ]
  },
  {
   "cell_type": "code",
   "execution_count": null,
   "id": "cfb18fdf-9f35-45c1-a582-51a2b61374e6",
   "metadata": {},
   "outputs": [],
   "source": [
    "mlp_p = clf_model.predict(x_test)\n",
    "mlp_p"
   ]
  },
  {
   "cell_type": "code",
   "execution_count": null,
   "id": "df572bcf-7d04-4b8c-bd90-5689f3c3dfdc",
   "metadata": {},
   "outputs": [],
   "source": [
    "from sklearn.metrics import accuracy_score\n",
    "acs_mlp = accuracy_score(y_test,mlp_p)\n",
    "acs_mlp"
   ]
  },
  {
   "cell_type": "code",
   "execution_count": null,
   "id": "61c17b5b-41da-4fd9-a69d-008c9bd18eff",
   "metadata": {},
   "outputs": [],
   "source": [
    "# Taking input from the user with corrected syntax and formatting\n",
    "Gender = int(input(\"Enter the Gender \\n 'Female': 0 \\n 'Male': 1\\n\"))\n",
    "Age = float(input(\"Enter the Age: \"))\n",
    "Academic_Pressure = float(input(\"Enter the Academic Pressure: \"))\n",
    "CGPA = float(input(\"Enter the CGPA: \"))\n",
    "Study_Satisfaction = float(input(\"Enter the Study Satisfaction: \"))\n",
    "Sleep_Duration = int(input(\"\\nEnter the Sleep Duration\\n '5-6 hours': 0 \\n '7-8 hours': 1 \\n 'Less than 5 hours': 2\\n\"))\n",
    "Dietary_Habits = int(input(\"\\nEnter the Dietary Habits \\n 'Healthy': 0 \\n 'Moderate': 1 \\n 'Unhealthy': 2\\n\"))\n",
    "Degree = int(input(\"Enter Your Degree \\n 'B.Pharm': 0 \\n 'BA': 1 \\n 'BCA': 2 \\n 'BSc': 3 \\n 'Class 12': 4 \\n 'M.Tech': 5 \\n 'MD': 6 \\n 'MSc': 7\\n\"))\n",
    "Suicidal_Thoughts = int(input(\"Enter if you have ever had suicidal thoughts \\n 'No': 0 \\n 'Yes': 1\\n\"))\n",
    "Work_Study_Hours = float(input(\"Enter Work/Study Hours: \"))\n",
    "Financial_Stress = float(input(\"Enter the Financial Stress: \"))\n",
    "Family_History_Mental_Illness = int(input(\"Enter Family History of Mental Illness \\n 'No': 0 \\n 'Yes': 1\\n\"))\n",
    "\n",
    "# Displaying the collected data\n",
    "print(\"\\nCollected Data:\")\n",
    "print(f\"Gender: {Gender}\")\n",
    "print(f\"Age: {Age}\")\n",
    "print(f\"Academic Pressure: {Academic_Pressure}\")\n",
    "print(f\"CGPA: {CGPA}\")\n",
    "print(f\"Study Satisfaction: {Study_Satisfaction}\")\n",
    "print(f\"Sleep Duration: {Sleep_Duration}\")\n",
    "print(f\"Dietary Habits: {Dietary_Habits}\")\n",
    "print(f\"Degree: {Degree}\")\n",
    "print(f\"Suicidal Thoughts: {Suicidal_Thoughts}\")\n",
    "print(f\"Work/Study Hours: {Work_Study_Hours}\")\n",
    "print(f\"Financial Stress: {Financial_Stress}\")\n",
    "print(f\"Family History of Mental Illness: {Family_History_Mental_Illness}\")\n",
    "\n",
    "'''\n",
    "  539\tFemale\t24\tKolkata\tStudent\t5\t0\t8.96\t1\t0\t5-6 hours\tModerate\tBCA\tYes\t12\t5\tNo\t1\n",
    "'''"
   ]
  },
  {
   "cell_type": "code",
   "execution_count": null,
   "id": "880ca1a7-2118-41b6-870c-bd97023fd601",
   "metadata": {},
   "outputs": [],
   "source": [
    "import numpy as np\n",
    "input_data = np.array([[\n",
    "    Gender,\n",
    "    Age,\n",
    "    Academic_Pressure,\n",
    "    CGPA,\n",
    "    Study_Satisfaction,\n",
    "    Sleep_Duration,\n",
    "    Dietary_Habits,\n",
    "    Degree,\n",
    "    Suicidal_Thoughts,\n",
    "    Work_Study_Hours,\n",
    "    Financial_Stress,\n",
    "    Family_History_Mental_Illness\n",
    "]])\n",
    "\n",
    "# Make a prediction\n",
    "prediction = clf_model.predict(input_data)\n",
    "prediction_prob = clf_model.predict_proba(input_data)\n",
    "\n",
    "# Display the results\n",
    "print(\"\\nPrediction Result:\")\n",
    "if prediction[0] == 1:\n",
    "    print(\"The model predicts: The Students Mental Health is not good\")\n",
    "else:\n",
    "    print(\"The model predicts: The Students Mental Health is  good\")\n",
    "\n",
    "print(\"\\nPrediction Probability:\")\n",
    "print(f\"Probability of Having Good Mental Health : {prediction_prob[0][0]:.2f}\")\n",
    "print(f\"Probability of Not Having the Good Mental Health: {prediction_prob[0][1]:.2f}\")"
   ]
  },
  {
   "cell_type": "code",
   "execution_count": null,
   "id": "b4db93fc-6db8-4818-b029-e617a1fb2aa9",
   "metadata": {},
   "outputs": [],
   "source": []
  }
 ],
 "metadata": {
  "kernelspec": {
   "display_name": "Python 3 (ipykernel)",
   "language": "python",
   "name": "python3"
  },
  "language_info": {
   "codemirror_mode": {
    "name": "ipython",
    "version": 3
   },
   "file_extension": ".py",
   "mimetype": "text/x-python",
   "name": "python",
   "nbconvert_exporter": "python",
   "pygments_lexer": "ipython3",
   "version": "3.12.4"
  }
 },
 "nbformat": 4,
 "nbformat_minor": 5
}
